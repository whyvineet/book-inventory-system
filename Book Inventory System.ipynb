{
 "cells": [
  {
   "cell_type": "markdown",
   "id": "a2bb3689-349d-41b4-8855-603e41fe7f9d",
   "metadata": {},
   "source": [
    "# Book Inventory System"
   ]
  },
  {
   "cell_type": "markdown",
   "id": "8cef3c62-4d27-4add-9fec-dd2ddb24f34b",
   "metadata": {},
   "source": [
    "### Importing Required Modules"
   ]
  },
  {
   "cell_type": "code",
   "execution_count": 3,
   "id": "0a6e493b-96d0-4ff9-be90-e0c6e26f5b6e",
   "metadata": {},
   "outputs": [],
   "source": [
    "import json\n",
    "import tkinter as tk\n",
    "from tkinter import messagebox"
   ]
  },
  {
   "cell_type": "markdown",
   "id": "085d87b6-46ee-48db-b770-0e4fb2d3f696",
   "metadata": {},
   "source": [
    "### Book Class"
   ]
  },
  {
   "cell_type": "code",
   "execution_count": 4,
   "id": "0b54a35e-f3b1-49b0-a602-46003d4489bb",
   "metadata": {},
   "outputs": [],
   "source": [
    "class Book:\n",
    "    def __init__(self, title, author, year, isbn):\n",
    "        self.title = title\n",
    "        self.author = author\n",
    "        self.year = year\n",
    "        self.isbn = isbn\n",
    "\n",
    "    def __str__(self):\n",
    "        return f\"{self.title}, by {self.author} ({self.year}) - ISBN: {self.isbn}\"\n"
   ]
  },
  {
   "cell_type": "markdown",
   "id": "5488bba3-0bc0-43f8-b920-cd99d976a14b",
   "metadata": {},
   "source": [
    "### Inventory class"
   ]
  },
  {
   "cell_type": "code",
   "execution_count": 5,
   "id": "83e38d12-2eee-4d24-b413-43706e2f6670",
   "metadata": {},
   "outputs": [],
   "source": [
    "class Inventory:\n",
    "    def __init__(self, file_name=\"books.json\"):\n",
    "        self.file_name = file_name\n",
    "        self.books = []\n",
    "        self.load_books()\n",
    "\n",
    "    def add_book(self, book):\n",
    "        self.books.append(book)\n",
    "        self.save_books()\n",
    "\n",
    "    def update_book(self, index, book):\n",
    "        if 0 <= index < len(self.books):\n",
    "            self.books[index] = book\n",
    "            self.save_books()\n",
    "\n",
    "    def delete_book(self, index):\n",
    "        if 0 <= index < len(self.books):\n",
    "            del self.books[index]\n",
    "            self.save_books()\n",
    "\n",
    "    def search_books(self, title):\n",
    "        return [book for book in self.books if title.lower() in book.title.lower()]\n",
    "\n",
    "    def save_books(self):\n",
    "        with open(self.file_name, 'w') as f:\n",
    "            json.dump([book.__dict__ for book in self.books], f)\n",
    "\n",
    "    def load_books(self):\n",
    "        try:\n",
    "            with open(self.file_name, 'r') as f:\n",
    "                books_data = json.load(f)\n",
    "                self.books = [Book(**data) for data in books_data]\n",
    "        except FileNotFoundError:\n",
    "            self.books = []\n"
   ]
  },
  {
   "cell_type": "markdown",
   "id": "25e23122-cdb7-4e4c-8920-74277ddddd0b",
   "metadata": {},
   "source": [
    "### Tkinter GUI"
   ]
  },
  {
   "cell_type": "code",
   "execution_count": 6,
   "id": "4ea4f935-abcd-4b19-910d-16a75046a09d",
   "metadata": {},
   "outputs": [],
   "source": [
    "class BookInventoryApp:\n",
    "    def __init__(self, root, inventory):\n",
    "        self.root = root\n",
    "        self.inventory = inventory\n",
    "        self.root.title(\"Book Inventory System\")\n",
    "\n",
    "        # Widgets\n",
    "        self.title_label = tk.Label(root, text=\"Title\")\n",
    "        self.title_label.grid(row=0, column=0)\n",
    "        self.title_entry = tk.Entry(root)\n",
    "        self.title_entry.grid(row=0, column=1)\n",
    "\n",
    "        self.author_label = tk.Label(root, text=\"Author\")\n",
    "        self.author_label.grid(row=1, column=0)\n",
    "        self.author_entry = tk.Entry(root)\n",
    "        self.author_entry.grid(row=1, column=1)\n",
    "\n",
    "        self.year_label = tk.Label(root, text=\"Year\")\n",
    "        self.year_label.grid(row=2, column=0)\n",
    "        self.year_entry = tk.Entry(root)\n",
    "        self.year_entry.grid(row=2, column=1)\n",
    "\n",
    "        self.isbn_label = tk.Label(root, text=\"ISBN\")\n",
    "        self.isbn_label.grid(row=3, column=0)\n",
    "        self.isbn_entry = tk.Entry(root)\n",
    "        self.isbn_entry.grid(row=3, column=1)\n",
    "\n",
    "        self.add_button = tk.Button(root, text=\"Add Book\", command=self.add_book)\n",
    "        self.add_button.grid(row=4, column=0, columnspan=2)\n",
    "\n",
    "        self.books_listbox = tk.Listbox(root)\n",
    "        self.books_listbox.grid(row=5, column=0, columnspan=2)\n",
    "        self.books_listbox.bind('<<ListboxSelect>>', self.load_selected_book)\n",
    "\n",
    "        self.update_button = tk.Button(root, text=\"Update Book\", command=self.update_book)\n",
    "        self.update_button.grid(row=6, column=0, columnspan=2)\n",
    "\n",
    "        self.delete_button = tk.Button(root, text=\"Delete Book\", command=self.delete_book)\n",
    "        self.delete_button.grid(row=7, column=0, columnspan=2)\n",
    "\n",
    "        self.search_label = tk.Label(root, text=\"Search by Title\")\n",
    "        self.search_label.grid(row=8, column=0)\n",
    "        self.search_entry = tk.Entry(root)\n",
    "        self.search_entry.grid(row=8, column=1)\n",
    "        self.search_button = tk.Button(root, text=\"Search\", command=self.search_books)\n",
    "        self.search_button.grid(row=9, column=0, columnspan=2)\n",
    "\n",
    "        self.populate_listbox()\n",
    "\n",
    "    def populate_listbox(self):\n",
    "        self.books_listbox.delete(0, tk.END)\n",
    "        for book in self.inventory.books:\n",
    "            self.books_listbox.insert(tk.END, book)\n",
    "\n",
    "    def load_selected_book(self, event):\n",
    "        try:\n",
    "            index = self.books_listbox.curselection()[0]\n",
    "            selected_book = self.inventory.books[index]\n",
    "            self.title_entry.delete(0, tk.END)\n",
    "            self.title_entry.insert(tk.END, selected_book.title)\n",
    "            self.author_entry.delete(0, tk.END)\n",
    "            self.author_entry.insert(tk.END, selected_book.author)\n",
    "            self.year_entry.delete(0, tk.END)\n",
    "            self.year_entry.insert(tk.END, selected_book.year)\n",
    "            self.isbn_entry.delete(0, tk.END)\n",
    "            self.isbn_entry.insert(tk.END, selected_book.isbn)\n",
    "        except IndexError:\n",
    "            pass\n",
    "\n",
    "    def add_book(self):\n",
    "        book = Book(\n",
    "            self.title_entry.get(),\n",
    "            self.author_entry.get(),\n",
    "            self.year_entry.get(),\n",
    "            self.isbn_entry.get()\n",
    "        )\n",
    "        self.inventory.add_book(book)\n",
    "        self.populate_listbox()\n",
    "        self.clear_entries()\n",
    "\n",
    "    def update_book(self):\n",
    "        try:\n",
    "            index = self.books_listbox.curselection()[0]\n",
    "            book = Book(\n",
    "                self.title_entry.get(),\n",
    "                self.author_entry.get(),\n",
    "                self.year_entry.get(),\n",
    "                self.isbn_entry.get()\n",
    "            )\n",
    "            self.inventory.update_book(index, book)\n",
    "            self.populate_listbox()\n",
    "            self.clear_entries()\n",
    "        except IndexError:\n",
    "            messagebox.showwarning(\"Update Book\", \"No book selected\")\n",
    "\n",
    "    def delete_book(self):\n",
    "        try:\n",
    "            index = self.books_listbox.curselection()[0]\n",
    "            self.inventory.delete_book(index)\n",
    "            self.populate_listbox()\n",
    "            self.clear_entries()\n",
    "        except IndexError:\n",
    "            messagebox.showwarning(\"Delete Book\", \"No book selected\")\n",
    "\n",
    "    def search_books(self):\n",
    "        self.books_listbox.delete(0, tk.END)\n",
    "        for book in self.inventory.search_books(self.search_entry.get()):\n",
    "            self.books_listbox.insert(tk.END, book)\n",
    "\n",
    "    def clear_entries(self):\n",
    "        self.title_entry.delete(0, tk.END)\n",
    "        self.author_entry.delete(0, tk.END)\n",
    "        self.year_entry.delete(0, tk.END)\n",
    "        self.isbn_entry.delete(0, tk.END)"
   ]
  },
  {
   "cell_type": "markdown",
   "id": "3b2dc774-6a27-4cb2-a7c6-1c6b167f5df1",
   "metadata": {},
   "source": [
    "### Main Block"
   ]
  },
  {
   "cell_type": "code",
   "execution_count": 8,
   "id": "fb79b359-022e-45d0-8793-4d4fb789c174",
   "metadata": {},
   "outputs": [],
   "source": [
    "if __name__ == \"__main__\":\n",
    "    root = tk.Tk()\n",
    "    inventory = Inventory()\n",
    "    app = BookInventoryApp(root, inventory)\n",
    "    root.mainloop()"
   ]
  }
 ],
 "metadata": {
  "kernelspec": {
   "display_name": "Python 3 (ipykernel)",
   "language": "python",
   "name": "python3"
  },
  "language_info": {
   "codemirror_mode": {
    "name": "ipython",
    "version": 3
   },
   "file_extension": ".py",
   "mimetype": "text/x-python",
   "name": "python",
   "nbconvert_exporter": "python",
   "pygments_lexer": "ipython3",
   "version": "3.12.4"
  }
 },
 "nbformat": 4,
 "nbformat_minor": 5
}
